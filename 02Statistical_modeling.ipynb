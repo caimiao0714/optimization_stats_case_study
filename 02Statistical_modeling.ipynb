{
  "nbformat": 4,
  "nbformat_minor": 0,
  "metadata": {
    "colab": {
      "name": "02Statistical modeling.ipynb",
      "provenance": [],
      "collapsed_sections": []
    },
    "kernelspec": {
      "name": "python3",
      "display_name": "Python 3"
    }
  },
  "cells": [
    {
      "cell_type": "markdown",
      "metadata": {
        "id": "hbVPykaPlop_",
        "colab_type": "text"
      },
      "source": [
        "# 02 Statistical modeling\n",
        "\n",
        "*Author: Miao Cai* [miao.cai@slu.edu](miao.cai@slu.edu)\n",
        "\n",
        "## Statistical modeling\n",
        "\n",
        "We then use four different models to model the risk during the trip:\n",
        "\n",
        "- Logistic regression\n",
        "- Poisson regression\n",
        "- XGBoost\n",
        "- Deep learning (Neural networks)\n",
        "\n",
        "## import packages and read data"
      ]
    },
    {
      "cell_type": "code",
      "metadata": {
        "id": "8vsY6y1blCDV",
        "colab_type": "code",
        "outputId": "0a824137-f613-4120-820b-48f87cfb1aa4",
        "colab": {
          "base_uri": "https://localhost:8080/",
          "height": 610
        }
      },
      "source": [
        "# !pip install h2o\n",
        "import sys\n",
        "import numpy as np\n",
        "import h2o\n",
        "from h2o.estimators.glm import H2OGeneralizedLinearEstimator\n",
        "h2o.init(nthreads = -1, max_mem_size = 8)\n",
        "\n",
        "print(\"Python version: \" + sys.version)\n",
        "print(\"numpy version:\", np.__version__)\n",
        "print(\"h2o version:\", h2o.__version__)"
      ],
      "execution_count": 1,
      "outputs": [
        {
          "output_type": "stream",
          "text": [
            "Checking whether there is an H2O instance running at http://localhost:54321 ..... not found.\n",
            "Attempting to start a local H2O server...\n",
            "  Java Version: openjdk version \"11.0.4\" 2019-07-16; OpenJDK Runtime Environment (build 11.0.4+11-post-Ubuntu-1ubuntu218.04.3); OpenJDK 64-Bit Server VM (build 11.0.4+11-post-Ubuntu-1ubuntu218.04.3, mixed mode, sharing)\n",
            "  Starting server from /usr/local/lib/python3.6/dist-packages/h2o/backend/bin/h2o.jar\n",
            "  Ice root: /tmp/tmp294_9azi\n",
            "  JVM stdout: /tmp/tmp294_9azi/h2o_unknownUser_started_from_python.out\n",
            "  JVM stderr: /tmp/tmp294_9azi/h2o_unknownUser_started_from_python.err\n",
            "  Server is running at http://127.0.0.1:54321\n",
            "Connecting to H2O server at http://127.0.0.1:54321 ... successful.\n"
          ],
          "name": "stdout"
        },
        {
          "output_type": "display_data",
          "data": {
            "text/html": [
              "<div style=\"overflow:auto\"><table style=\"width:50%\"><tr><td>H2O cluster uptime:</td>\n",
              "<td>02 secs</td></tr>\n",
              "<tr><td>H2O cluster timezone:</td>\n",
              "<td>Etc/UTC</td></tr>\n",
              "<tr><td>H2O data parsing timezone:</td>\n",
              "<td>UTC</td></tr>\n",
              "<tr><td>H2O cluster version:</td>\n",
              "<td>3.26.0.11</td></tr>\n",
              "<tr><td>H2O cluster version age:</td>\n",
              "<td>11 days </td></tr>\n",
              "<tr><td>H2O cluster name:</td>\n",
              "<td>H2O_from_python_unknownUser_rtskve</td></tr>\n",
              "<tr><td>H2O cluster total nodes:</td>\n",
              "<td>1</td></tr>\n",
              "<tr><td>H2O cluster free memory:</td>\n",
              "<td>8 Gb</td></tr>\n",
              "<tr><td>H2O cluster total cores:</td>\n",
              "<td>2</td></tr>\n",
              "<tr><td>H2O cluster allowed cores:</td>\n",
              "<td>2</td></tr>\n",
              "<tr><td>H2O cluster status:</td>\n",
              "<td>accepting new members, healthy</td></tr>\n",
              "<tr><td>H2O connection url:</td>\n",
              "<td>http://127.0.0.1:54321</td></tr>\n",
              "<tr><td>H2O connection proxy:</td>\n",
              "<td>{'http': None, 'https': None}</td></tr>\n",
              "<tr><td>H2O internal security:</td>\n",
              "<td>False</td></tr>\n",
              "<tr><td>H2O API Extensions:</td>\n",
              "<td>Amazon S3, XGBoost, Algos, AutoML, Core V3, TargetEncoder, Core V4</td></tr>\n",
              "<tr><td>Python version:</td>\n",
              "<td>3.6.9 final</td></tr></table></div>"
            ],
            "text/plain": [
              "--------------------------  ------------------------------------------------------------------\n",
              "H2O cluster uptime:         02 secs\n",
              "H2O cluster timezone:       Etc/UTC\n",
              "H2O data parsing timezone:  UTC\n",
              "H2O cluster version:        3.26.0.11\n",
              "H2O cluster version age:    11 days\n",
              "H2O cluster name:           H2O_from_python_unknownUser_rtskve\n",
              "H2O cluster total nodes:    1\n",
              "H2O cluster free memory:    8 Gb\n",
              "H2O cluster total cores:    2\n",
              "H2O cluster allowed cores:  2\n",
              "H2O cluster status:         accepting new members, healthy\n",
              "H2O connection url:         http://127.0.0.1:54321\n",
              "H2O connection proxy:       {'http': None, 'https': None}\n",
              "H2O internal security:      False\n",
              "H2O API Extensions:         Amazon S3, XGBoost, Algos, AutoML, Core V3, TargetEncoder, Core V4\n",
              "Python version:             3.6.9 final\n",
              "--------------------------  ------------------------------------------------------------------"
            ]
          },
          "metadata": {
            "tags": []
          }
        },
        {
          "output_type": "stream",
          "text": [
            "Python version: 3.6.9 (default, Nov  7 2019, 10:44:02) \n",
            "[GCC 8.3.0]\n",
            "numpy version: 1.17.4\n",
            "h2o version: 3.26.0.11\n"
          ],
          "name": "stdout"
        }
      ]
    },
    {
      "cell_type": "code",
      "metadata": {
        "id": "EsdWiFs6pXTi",
        "colab_type": "code",
        "outputId": "1c3626d9-69d5-43ea-ad06-b7363ce9776b",
        "colab": {
          "base_uri": "https://localhost:8080/",
          "height": 163
        }
      },
      "source": [
        "df = h2o.import_file('https://raw.githubusercontent.com/caimiao0714/optimization_stats_case_study/master/data/simulated_data.csv')\n",
        "df[df['y']  > 0,'y_binary'] = 1\n",
        "df[df['y'] == 0,'y_binary'] = 0\n",
        "df['y_binary'] = df['y_binary'].asfactor()\n",
        "df['log_Distance'] = df['Distance'].log()\n",
        "df.head(5)"
      ],
      "execution_count": 2,
      "outputs": [
        {
          "output_type": "stream",
          "text": [
            "Parse progress: |█████████████████████████████████████████████████████████| 100%\n"
          ],
          "name": "stdout"
        },
        {
          "output_type": "display_data",
          "data": {
            "text/html": [
              "<table>\n",
              "<thead>\n",
              "<tr><th style=\"text-align: right;\">  C1</th><th style=\"text-align: right;\">  y</th><th style=\"text-align: right;\">  Distance</th><th style=\"text-align: right;\">  Precipitation</th><th style=\"text-align: right;\">  Traffic</th><th style=\"text-align: right;\">  y_binary</th><th style=\"text-align: right;\">  log_Distance</th></tr>\n",
              "</thead>\n",
              "<tbody>\n",
              "<tr><td style=\"text-align: right;\">   0</td><td style=\"text-align: right;\">  0</td><td style=\"text-align: right;\">      1018</td><td style=\"text-align: right;\">              0</td><td style=\"text-align: right;\"> 0.299886</td><td style=\"text-align: right;\">         0</td><td style=\"text-align: right;\">       6.9256 </td></tr>\n",
              "<tr><td style=\"text-align: right;\">   1</td><td style=\"text-align: right;\">  0</td><td style=\"text-align: right;\">       973</td><td style=\"text-align: right;\">              0</td><td style=\"text-align: right;\"> 0.565617</td><td style=\"text-align: right;\">         0</td><td style=\"text-align: right;\">       6.88038</td></tr>\n",
              "<tr><td style=\"text-align: right;\">   2</td><td style=\"text-align: right;\">  0</td><td style=\"text-align: right;\">      1021</td><td style=\"text-align: right;\">              0</td><td style=\"text-align: right;\"> 0.414564</td><td style=\"text-align: right;\">         0</td><td style=\"text-align: right;\">       6.92854</td></tr>\n",
              "<tr><td style=\"text-align: right;\">   3</td><td style=\"text-align: right;\">  0</td><td style=\"text-align: right;\">       998</td><td style=\"text-align: right;\">              0</td><td style=\"text-align: right;\"> 0.559767</td><td style=\"text-align: right;\">         0</td><td style=\"text-align: right;\">       6.90575</td></tr>\n",
              "<tr><td style=\"text-align: right;\">   4</td><td style=\"text-align: right;\">  0</td><td style=\"text-align: right;\">       985</td><td style=\"text-align: right;\">              0</td><td style=\"text-align: right;\"> 0.777217</td><td style=\"text-align: right;\">         0</td><td style=\"text-align: right;\">       6.89264</td></tr>\n",
              "</tbody>\n",
              "</table>"
            ]
          },
          "metadata": {
            "tags": []
          }
        },
        {
          "output_type": "execute_result",
          "data": {
            "text/plain": [
              ""
            ]
          },
          "metadata": {
            "tags": []
          },
          "execution_count": 2
        }
      ]
    },
    {
      "cell_type": "code",
      "metadata": {
        "id": "LZf7azQWqAJK",
        "colab_type": "code",
        "outputId": "f8bb68cf-f007-4460-dca5-961ce5041198",
        "colab": {
          "base_uri": "https://localhost:8080/",
          "height": 163
        }
      },
      "source": [
        "lk = h2o.import_file('https://raw.githubusercontent.com/caimiao0714/optimization_stats_case_study/master/data/links_traffic_precipitation.csv')\n",
        "lk.head(5)"
      ],
      "execution_count": 3,
      "outputs": [
        {
          "output_type": "stream",
          "text": [
            "Parse progress: |█████████████████████████████████████████████████████████| 100%\n"
          ],
          "name": "stdout"
        },
        {
          "output_type": "display_data",
          "data": {
            "text/html": [
              "<table>\n",
              "<thead>\n",
              "<tr><th style=\"text-align: right;\">  C1</th><th># Node A  </th><th>Node Z        </th><th style=\"text-align: right;\">  Distance</th><th style=\"text-align: right;\">  Precipitation</th><th style=\"text-align: right;\">  Traffic</th></tr>\n",
              "</thead>\n",
              "<tbody>\n",
              "<tr><td style=\"text-align: right;\">   0</td><td>Ann_Arbor </td><td>Ithaca        </td><td style=\"text-align: right;\">       800</td><td style=\"text-align: right;\">              0</td><td style=\"text-align: right;\"> 0.254345</td></tr>\n",
              "<tr><td style=\"text-align: right;\">   1</td><td>Ann_Arbor </td><td>Princeton     </td><td style=\"text-align: right;\">       800</td><td style=\"text-align: right;\">              0</td><td style=\"text-align: right;\"> 0.243435</td></tr>\n",
              "<tr><td style=\"text-align: right;\">   2</td><td>Ann_Arbor </td><td>Salt_Lake_City</td><td style=\"text-align: right;\">      2400</td><td style=\"text-align: right;\">              0</td><td style=\"text-align: right;\"> 0.254188</td></tr>\n",
              "<tr><td style=\"text-align: right;\">   3</td><td>Atlanta   </td><td>Houston       </td><td style=\"text-align: right;\">      1200</td><td style=\"text-align: right;\">              0</td><td style=\"text-align: right;\"> 0.424037</td></tr>\n",
              "<tr><td style=\"text-align: right;\">   4</td><td>Atlanta   </td><td>Pittsburgh    </td><td style=\"text-align: right;\">       900</td><td style=\"text-align: right;\">              0</td><td style=\"text-align: right;\"> 0.573477</td></tr>\n",
              "</tbody>\n",
              "</table>"
            ]
          },
          "metadata": {
            "tags": []
          }
        },
        {
          "output_type": "execute_result",
          "data": {
            "text/plain": [
              ""
            ]
          },
          "metadata": {
            "tags": []
          },
          "execution_count": 3
        }
      ]
    },
    {
      "cell_type": "markdown",
      "metadata": {
        "id": "CjwDYXqmz3gD",
        "colab_type": "text"
      },
      "source": [
        "### Split into train and test sets"
      ]
    },
    {
      "cell_type": "code",
      "metadata": {
        "id": "3DtRIAg3R_pz",
        "colab_type": "code",
        "colab": {
          "base_uri": "https://localhost:8080/",
          "height": 72
        },
        "outputId": "1c02d579-0ae1-457d-e108-31266566ee45"
      },
      "source": [
        "df_splits = df.split_frame(ratios = [0.7, 0.15], seed = 123)\n",
        "\n",
        "df_train = df_splits[0]\n",
        "df_test  = df_splits[1]\n",
        "df_valid = df_splits[2]\n",
        "\n",
        "print(str(df_train.nrow) + \" rows in training set;\\n\" + \n",
        "      str(df_test.nrow) + \" rows in test set;\\n\" + \n",
        "      str(df_valid.nrow) + \" rows in validation set.\")"
      ],
      "execution_count": 4,
      "outputs": [
        {
          "output_type": "stream",
          "text": [
            "7021 rows in training set;\n",
            "1482 rows in test set;\n",
            "1497 rows in validation set.\n"
          ],
          "name": "stdout"
        }
      ]
    },
    {
      "cell_type": "markdown",
      "metadata": {
        "id": "eRXKKMQpppC5",
        "colab_type": "text"
      },
      "source": [
        "## Logistic regression"
      ]
    },
    {
      "cell_type": "code",
      "metadata": {
        "id": "HxoJpwEyvBLZ",
        "colab_type": "code",
        "colab": {
          "base_uri": "https://localhost:8080/",
          "height": 223
        },
        "outputId": "8ccd7a1d-ea04-4088-f8e3-bb7a3d1d9824"
      },
      "source": [
        "fit_logit = H2OGeneralizedLinearEstimator(family='binomial', \n",
        "                                          model_id='fit_logit')\n",
        "fit_logit.train(x = ['Precipitation', 'Traffic', 'Distance'], \n",
        "                y = 'y_binary', \n",
        "                training_frame = df_train)\n",
        "logit_test_fit = fit_logit.model_performance(df_test)\n",
        "fit_logit._model_json['output']['coefficients_table']"
      ],
      "execution_count": 5,
      "outputs": [
        {
          "output_type": "stream",
          "text": [
            "glm Model Build progress: |███████████████████████████████████████████████| 100%\n",
            "\n",
            "Coefficients: glm coefficients\n"
          ],
          "name": "stdout"
        },
        {
          "output_type": "display_data",
          "data": {
            "text/html": [
              "<div>\n",
              "<style scoped>\n",
              "    .dataframe tbody tr th:only-of-type {\n",
              "        vertical-align: middle;\n",
              "    }\n",
              "\n",
              "    .dataframe tbody tr th {\n",
              "        vertical-align: top;\n",
              "    }\n",
              "\n",
              "    .dataframe thead th {\n",
              "        text-align: right;\n",
              "    }\n",
              "</style>\n",
              "<table border=\"1\" class=\"dataframe\">\n",
              "  <thead>\n",
              "    <tr style=\"text-align: right;\">\n",
              "      <th></th>\n",
              "      <th>names</th>\n",
              "      <th>coefficients</th>\n",
              "      <th>standardized_coefficients</th>\n",
              "    </tr>\n",
              "  </thead>\n",
              "  <tbody>\n",
              "    <tr>\n",
              "      <th>0</th>\n",
              "      <td>Intercept</td>\n",
              "      <td>-3.604438</td>\n",
              "      <td>-2.144072</td>\n",
              "    </tr>\n",
              "    <tr>\n",
              "      <th>1</th>\n",
              "      <td>Distance</td>\n",
              "      <td>0.001008</td>\n",
              "      <td>0.032266</td>\n",
              "    </tr>\n",
              "    <tr>\n",
              "      <th>2</th>\n",
              "      <td>Precipitation</td>\n",
              "      <td>0.256380</td>\n",
              "      <td>0.092045</td>\n",
              "    </tr>\n",
              "    <tr>\n",
              "      <th>3</th>\n",
              "      <td>Traffic</td>\n",
              "      <td>0.830543</td>\n",
              "      <td>0.187609</td>\n",
              "    </tr>\n",
              "  </tbody>\n",
              "</table>\n",
              "</div>"
            ],
            "text/plain": [
              "           names  coefficients  standardized_coefficients\n",
              "0      Intercept     -3.604438                  -2.144072\n",
              "1       Distance      0.001008                   0.032266\n",
              "2  Precipitation      0.256380                   0.092045\n",
              "3        Traffic      0.830543                   0.187609"
            ]
          },
          "metadata": {
            "tags": []
          }
        },
        {
          "output_type": "execute_result",
          "data": {
            "text/plain": [
              ""
            ]
          },
          "metadata": {
            "tags": []
          },
          "execution_count": 5
        }
      ]
    },
    {
      "cell_type": "code",
      "metadata": {
        "id": "oexziW0Du_Jw",
        "colab_type": "code",
        "outputId": "da320ea5-fa19-4c8e-e701-46916ad51b0a",
        "colab": {
          "base_uri": "https://localhost:8080/",
          "height": 235
        }
      },
      "source": [
        "print(\"Logistic regression model evaluation:\")\n",
        "print(\"train AUC: \" + str(fit_logit.auc()))\n",
        "print(\"test  AUC: \" + str(logit_test_fit.auc()))\n",
        "print(\"---\")\n",
        "print(\"train Accuracy\" + str(fit_logit.accuracy()))\n",
        "print(\"test  Accuracy\" + str(logit_test_fit.accuracy()))\n",
        "print(\"---\")\n",
        "print(\"train MSE\" + str(fit_logit.mse()))\n",
        "print(\"test  MSE\" + str(logit_test_fit.mse()))\n",
        "print(\"---\")\n",
        "print(\"train R-square: \" + str(fit_logit.r2()))\n",
        "print(\"test  R-square: \" + str(logit_test_fit.r2()))"
      ],
      "execution_count": 6,
      "outputs": [
        {
          "output_type": "stream",
          "text": [
            "Logistic regression model evaluation:\n",
            "train AUC: 0.5596289078650459\n",
            "test  AUC: 0.5638801871833545\n",
            "---\n",
            "train Accuracy[[0.18502530292639074, 0.8936048995869534]]\n",
            "test  Accuracy[[0.17768208465318328, 0.8940620782726046]]\n",
            "---\n",
            "train MSE0.09478002969662627\n",
            "test  MSE0.09376565320196198\n",
            "---\n",
            "train R-square: 0.004278462347631851\n",
            "test  R-square: 0.004429388061521045\n"
          ],
          "name": "stdout"
        }
      ]
    },
    {
      "cell_type": "markdown",
      "metadata": {
        "id": "b2p8ndTzptqB",
        "colab_type": "text"
      },
      "source": [
        "## Poisson regression"
      ]
    },
    {
      "cell_type": "code",
      "metadata": {
        "id": "3j98U9y8n74X",
        "colab_type": "code",
        "colab": {
          "base_uri": "https://localhost:8080/",
          "height": 223
        },
        "outputId": "5c6ad79d-0a22-4099-f98c-d3efb06329a0"
      },
      "source": [
        "fit_poisson = H2OGeneralizedLinearEstimator(family='Poisson', \n",
        "                                            model_id='fit_poisson')\n",
        "fit_poisson.train(x = ['Precipitation', 'Traffic', 'Distance'], \n",
        "                  #offset_column = 'Distance',\n",
        "                  y = 'y', \n",
        "                  training_frame = df_train)\n",
        "poisson_test_fit = fit_poisson.model_performance(df_test)\n",
        "fit_poisson._model_json['output']['coefficients_table']"
      ],
      "execution_count": 7,
      "outputs": [
        {
          "output_type": "stream",
          "text": [
            "glm Model Build progress: |███████████████████████████████████████████████| 100%\n",
            "\n",
            "Coefficients: glm coefficients\n"
          ],
          "name": "stdout"
        },
        {
          "output_type": "display_data",
          "data": {
            "text/html": [
              "<div>\n",
              "<style scoped>\n",
              "    .dataframe tbody tr th:only-of-type {\n",
              "        vertical-align: middle;\n",
              "    }\n",
              "\n",
              "    .dataframe tbody tr th {\n",
              "        vertical-align: top;\n",
              "    }\n",
              "\n",
              "    .dataframe thead th {\n",
              "        text-align: right;\n",
              "    }\n",
              "</style>\n",
              "<table border=\"1\" class=\"dataframe\">\n",
              "  <thead>\n",
              "    <tr style=\"text-align: right;\">\n",
              "      <th></th>\n",
              "      <th>names</th>\n",
              "      <th>coefficients</th>\n",
              "      <th>standardized_coefficients</th>\n",
              "    </tr>\n",
              "  </thead>\n",
              "  <tbody>\n",
              "    <tr>\n",
              "      <th>0</th>\n",
              "      <td>Intercept</td>\n",
              "      <td>-4.371852</td>\n",
              "      <td>-2.102051</td>\n",
              "    </tr>\n",
              "    <tr>\n",
              "      <th>1</th>\n",
              "      <td>Distance</td>\n",
              "      <td>0.001747</td>\n",
              "      <td>0.055937</td>\n",
              "    </tr>\n",
              "    <tr>\n",
              "      <th>2</th>\n",
              "      <td>Precipitation</td>\n",
              "      <td>0.334264</td>\n",
              "      <td>0.120008</td>\n",
              "    </tr>\n",
              "    <tr>\n",
              "      <th>3</th>\n",
              "      <td>Traffic</td>\n",
              "      <td>0.947354</td>\n",
              "      <td>0.213995</td>\n",
              "    </tr>\n",
              "  </tbody>\n",
              "</table>\n",
              "</div>"
            ],
            "text/plain": [
              "           names  coefficients  standardized_coefficients\n",
              "0      Intercept     -4.371852                  -2.102051\n",
              "1       Distance      0.001747                   0.055937\n",
              "2  Precipitation      0.334264                   0.120008\n",
              "3        Traffic      0.947354                   0.213995"
            ]
          },
          "metadata": {
            "tags": []
          }
        },
        {
          "output_type": "execute_result",
          "data": {
            "text/plain": [
              ""
            ]
          },
          "metadata": {
            "tags": []
          },
          "execution_count": 7
        }
      ]
    },
    {
      "cell_type": "code",
      "metadata": {
        "id": "5GxAk4xMnvIu",
        "colab_type": "code",
        "colab": {
          "base_uri": "https://localhost:8080/",
          "height": 126
        },
        "outputId": "06a49dd0-7ff9-4957-8f01-c6b00e26cd2b"
      },
      "source": [
        "print(\"Poisson regression model evaluation:\")\n",
        "print(\"train MSE: \" + str(fit_poisson.mse()))\n",
        "print(\"test  MSE: \" + str(poisson_test_fit.mse()))\n",
        "print(\"---\")\n",
        "print(\"train R-square: \" + str(fit_poisson.r2()))\n",
        "print(\"test  R-square: \" + str(poisson_test_fit.r2()))"
      ],
      "execution_count": 8,
      "outputs": [
        {
          "output_type": "stream",
          "text": [
            "Poisson regression model evaluation:\n",
            "train MSE: 0.16471763615686122\n",
            "test  MSE: 0.17174430698927012\n",
            "---\n",
            "train R-square: 0.006623137684569902\n",
            "test  R-square: 0.0043653505149615635\n"
          ],
          "name": "stdout"
        }
      ]
    },
    {
      "cell_type": "markdown",
      "metadata": {
        "id": "VxHYv6lM9LM0",
        "colab_type": "text"
      },
      "source": [
        "## XGBoost"
      ]
    },
    {
      "cell_type": "code",
      "metadata": {
        "id": "bfBV2DN_9gdd",
        "colab_type": "code",
        "colab": {
          "base_uri": "https://localhost:8080/",
          "height": 35
        },
        "outputId": "1b0f510c-7e42-4ad9-d4e3-a16463eef505"
      },
      "source": [
        "from h2o.estimators import H2OXGBoostEstimator\n",
        "xgboost_params = {\n",
        "      \"ntrees\" : 50, \n",
        "      \"max_depth\" : 5,\n",
        "      \"learn_rate\" : 0.001,\n",
        "      \"sample_rate\" : 0.7,\n",
        "      \"col_sample_rate_per_tree\" : 0.9,\n",
        "      \"min_rows\" : 5,\n",
        "      \"seed\": 4241,\n",
        "      \"score_tree_interval\": 10\n",
        "}\n",
        "fit_xgboost = H2OXGBoostEstimator(**xgboost_params)\n",
        "fit_xgboost.train(x = ['Precipitation', 'Traffic', 'Distance'], \n",
        "                  y = 'y_binary', \n",
        "                  training_frame = df_train, \n",
        "                  validation_frame = df_valid)"
      ],
      "execution_count": 9,
      "outputs": [
        {
          "output_type": "stream",
          "text": [
            "xgboost Model Build progress: |███████████████████████████████████████████| 100%\n"
          ],
          "name": "stdout"
        }
      ]
    },
    {
      "cell_type": "code",
      "metadata": {
        "id": "BLIPHASz-i_1",
        "colab_type": "code",
        "colab": {
          "base_uri": "https://localhost:8080/",
          "height": 235
        },
        "outputId": "8eb78f48-7f08-46cc-8a11-4ac62de12f9f"
      },
      "source": [
        "xgboost_test_fit = fit_xgboost.model_performance(df_test)\n",
        "print(\"XGBoost regression model evaluation:\")\n",
        "print(\"train AUC: \" + str(fit_xgboost.auc()))\n",
        "print(\"test  AUC: \" + str(xgboost_test_fit.auc()))\n",
        "print(\"---\")\n",
        "print(\"train Accuracy\" + str(fit_xgboost.accuracy()))\n",
        "print(\"test  Accuracy\" + str(xgboost_test_fit.accuracy()))\n",
        "print(\"---\")\n",
        "print(\"train MSE\" + str(fit_xgboost.mse()))\n",
        "print(\"test  MSE\" + str(xgboost_test_fit.mse()))\n",
        "print(\"---\")\n",
        "print(\"train R-square: \" + str(fit_xgboost.r2()))\n",
        "print(\"test  R-square: \" + str(xgboost_test_fit.r2()))"
      ],
      "execution_count": 10,
      "outputs": [
        {
          "output_type": "stream",
          "text": [
            "XGBoost regression model evaluation:\n",
            "train AUC: 0.6058716756560456\n",
            "test  AUC: 0.552575221410063\n",
            "---\n",
            "train Accuracy[[0.48714303970336914, 0.8937473294402507]]\n",
            "test  Accuracy[[0.4882924258708954, 0.8940620782726046]]\n",
            "---\n",
            "train MSE0.2352391414490155\n",
            "test  MSE0.2352131798112998\n",
            "---\n",
            "train R-square: -1.4713294603237945\n",
            "test  R-square: -1.4974105268199778\n"
          ],
          "name": "stdout"
        }
      ]
    },
    {
      "cell_type": "markdown",
      "metadata": {
        "id": "yR3lN6TWAeOf",
        "colab_type": "text"
      },
      "source": [
        "## Neural networks"
      ]
    },
    {
      "cell_type": "code",
      "metadata": {
        "id": "QFmp0Uv6BBgt",
        "colab_type": "code",
        "colab": {}
      },
      "source": [
        "from h2o.estimators.deeplearning import H2OAutoEncoderEstimator, H2ODeepLearningEstimator"
      ],
      "execution_count": 0,
      "outputs": []
    },
    {
      "cell_type": "code",
      "metadata": {
        "id": "WsQAW5mBBRLQ",
        "colab_type": "code",
        "colab": {
          "base_uri": "https://localhost:8080/",
          "height": 35
        },
        "outputId": "ee38977e-afa8-42c3-fe85-8ececa636be0"
      },
      "source": [
        "fit_DL = H2ODeepLearningEstimator(epochs = 1000, \n",
        "                                  # hidden = [10, 10],\n",
        "                                  model_id = 'Deep learning', \n",
        "                                  seed = 1)\n",
        "fit_DL.train(x = ['Precipitation', 'Traffic', 'Distance'], \n",
        "             y = 'y_binary', \n",
        "             training_frame = df_train, \n",
        "             validation_frame = df_valid)"
      ],
      "execution_count": 12,
      "outputs": [
        {
          "output_type": "stream",
          "text": [
            "deeplearning Model Build progress: |██████████████████████████████████████| 100%\n"
          ],
          "name": "stdout"
        }
      ]
    },
    {
      "cell_type": "code",
      "metadata": {
        "id": "MttXXE4PCjRG",
        "colab_type": "code",
        "colab": {
          "base_uri": "https://localhost:8080/",
          "height": 235
        },
        "outputId": "4882fa7a-d7e2-425a-ff65-c2181bffc257"
      },
      "source": [
        "DL_test_fit = fit_DL.model_performance(df_test)\n",
        "print(\"Deep learning model evaluation:\")\n",
        "print(\"train AUC: \" + str(fit_DL.auc()))\n",
        "print(\"test  AUC: \" + str(DL_test_fit.auc()))\n",
        "print(\"---\")\n",
        "print(\"train Accuracy\" + str(fit_DL.accuracy()))\n",
        "print(\"test  Accuracy\" + str(DL_test_fit.accuracy()))\n",
        "print(\"---\")\n",
        "print(\"train MSE\" + str(fit_DL.mse()))\n",
        "print(\"test  MSE\" + str(DL_test_fit.mse()))\n",
        "print(\"---\")\n",
        "print(\"train R-square: \" + str(fit_DL.r2()))\n",
        "print(\"test  R-square: \" + str(DL_test_fit.r2()))"
      ],
      "execution_count": 13,
      "outputs": [
        {
          "output_type": "stream",
          "text": [
            "Deep learning model evaluation:\n",
            "train AUC: 0.5614672763588284\n",
            "test  AUC: 0.5351742274819198\n",
            "---\n",
            "train Accuracy[[0.21823377000378666, 0.8933200398803589]]\n",
            "test  Accuracy[[0.2164417325947588, 0.8940620782726046]]\n",
            "---\n",
            "train MSE0.09477659936866129\n",
            "test  MSE0.09432099305838623\n",
            "---\n",
            "train R-square: 0.0043145000176650905\n",
            "test  R-square: -0.0014670145316892924\n"
          ],
          "name": "stdout"
        }
      ]
    },
    {
      "cell_type": "markdown",
      "metadata": {
        "id": "qxbgJh3WEh-C",
        "colab_type": "text"
      },
      "source": [
        "## Prediction for links data"
      ]
    },
    {
      "cell_type": "code",
      "metadata": {
        "id": "POyN7U_iEkJZ",
        "colab_type": "code",
        "colab": {
          "base_uri": "https://localhost:8080/",
          "height": 290
        },
        "outputId": "5ecedbc3-846c-4f65-ca69-0f3b8a086a1a"
      },
      "source": [
        "risk_logit = fit_logit.predict(lk).as_data_frame(True).p1.tolist()\n",
        "risk_poisson = fit_poisson.predict(lk).as_data_frame(True).predict.tolist()\n",
        "risk_xgboost = fit_xgboost.predict(lk).as_data_frame(True).p1.tolist()\n",
        "risk_DL = fit_DL.predict(lk).as_data_frame(True).p1.tolist()\n",
        "\n",
        "lk_risks = lk.cbind(h2o.H2OFrame(risk_logit).set_names(['risk_logit'])).\\\n",
        "              cbind(h2o.H2OFrame(risk_poisson).set_names(['risk_poisson'])).\\\n",
        "              cbind(h2o.H2OFrame(risk_xgboost).set_names(['risk_xgboost'])).\\\n",
        "              cbind(h2o.H2OFrame(risk_DL).set_names(['risk_DL']))\n",
        "lk_risks.head(5)"
      ],
      "execution_count": 14,
      "outputs": [
        {
          "output_type": "stream",
          "text": [
            "glm prediction progress: |████████████████████████████████████████████████| 100%\n",
            "glm prediction progress: |████████████████████████████████████████████████| 100%\n",
            "xgboost prediction progress: |████████████████████████████████████████████| 100%\n",
            "deeplearning prediction progress: |███████████████████████████████████████| 100%\n",
            "Parse progress: |█████████████████████████████████████████████████████████| 100%\n",
            "Parse progress: |█████████████████████████████████████████████████████████| 100%\n",
            "Parse progress: |█████████████████████████████████████████████████████████| 100%\n",
            "Parse progress: |█████████████████████████████████████████████████████████| 100%\n"
          ],
          "name": "stdout"
        },
        {
          "output_type": "display_data",
          "data": {
            "text/html": [
              "<table>\n",
              "<thead>\n",
              "<tr><th style=\"text-align: right;\">  C1</th><th># Node A  </th><th>Node Z        </th><th style=\"text-align: right;\">  Distance</th><th style=\"text-align: right;\">  Precipitation</th><th style=\"text-align: right;\">  Traffic</th><th style=\"text-align: right;\">  risk_logit</th><th style=\"text-align: right;\">  risk_poisson</th><th style=\"text-align: right;\">  risk_xgboost</th><th style=\"text-align: right;\">    risk_DL</th></tr>\n",
              "</thead>\n",
              "<tbody>\n",
              "<tr><td style=\"text-align: right;\">   0</td><td>Ann_Arbor </td><td>Ithaca        </td><td style=\"text-align: right;\">       800</td><td style=\"text-align: right;\">              0</td><td style=\"text-align: right;\"> 0.254345</td><td style=\"text-align: right;\">   0.0699758</td><td style=\"text-align: right;\">     0.0650006</td><td style=\"text-align: right;\">      0.480249</td><td style=\"text-align: right;\">0.000641571</td></tr>\n",
              "<tr><td style=\"text-align: right;\">   1</td><td>Ann_Arbor </td><td>Princeton     </td><td style=\"text-align: right;\">       800</td><td style=\"text-align: right;\">              0</td><td style=\"text-align: right;\"> 0.243435</td><td style=\"text-align: right;\">   0.0693884</td><td style=\"text-align: right;\">     0.0643322</td><td style=\"text-align: right;\">      0.480249</td><td style=\"text-align: right;\">0.000622241</td></tr>\n",
              "<tr><td style=\"text-align: right;\">   2</td><td>Ann_Arbor </td><td>Salt_Lake_City</td><td style=\"text-align: right;\">      2400</td><td style=\"text-align: right;\">              0</td><td style=\"text-align: right;\"> 0.254188</td><td style=\"text-align: right;\">   0.2739   </td><td style=\"text-align: right;\">     1.0635   </td><td style=\"text-align: right;\">      0.482543</td><td style=\"text-align: right;\">8.12448e-05</td></tr>\n",
              "<tr><td style=\"text-align: right;\">   3</td><td>Atlanta   </td><td>Houston       </td><td style=\"text-align: right;\">      1200</td><td style=\"text-align: right;\">              0</td><td style=\"text-align: right;\"> 0.424037</td><td style=\"text-align: right;\">   0.114756 </td><td style=\"text-align: right;\">     0.153534 </td><td style=\"text-align: right;\">      0.482781</td><td style=\"text-align: right;\">0.0684073  </td></tr>\n",
              "<tr><td style=\"text-align: right;\">   4</td><td>Atlanta   </td><td>Pittsburgh    </td><td style=\"text-align: right;\">       900</td><td style=\"text-align: right;\">              0</td><td style=\"text-align: right;\"> 0.573477</td><td style=\"text-align: right;\">   0.0978591</td><td style=\"text-align: right;\">     0.104734 </td><td style=\"text-align: right;\">      0.480885</td><td style=\"text-align: right;\">0.03987    </td></tr>\n",
              "</tbody>\n",
              "</table>"
            ]
          },
          "metadata": {
            "tags": []
          }
        },
        {
          "output_type": "execute_result",
          "data": {
            "text/plain": [
              ""
            ]
          },
          "metadata": {
            "tags": []
          },
          "execution_count": 14
        }
      ]
    },
    {
      "cell_type": "code",
      "metadata": {
        "id": "UNsjJwTcTRdY",
        "colab_type": "code",
        "colab": {
          "base_uri": "https://localhost:8080/",
          "height": 35
        },
        "outputId": "7288983c-4cca-4daf-baf3-261b158106bf"
      },
      "source": [
        "from google.colab import drive\n",
        "from google.colab import files\n",
        "drive.mount('/content/drive/', force_remount=True)\n",
        "lk_risks.as_data_frame().to_csv('lk_risks.csv')\n",
        "files.download('lk_risks.csv')"
      ],
      "execution_count": 17,
      "outputs": [
        {
          "output_type": "stream",
          "text": [
            "Mounted at /content/drive/\n"
          ],
          "name": "stdout"
        }
      ]
    }
  ]
}