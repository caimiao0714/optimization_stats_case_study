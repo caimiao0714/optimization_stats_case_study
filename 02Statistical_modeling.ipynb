{
  "nbformat": 4,
  "nbformat_minor": 0,
  "metadata": {
    "colab": {
      "name": "02Statistical modeling.ipynb",
      "provenance": [],
      "collapsed_sections": [],
      "include_colab_link": true
    },
    "kernelspec": {
      "name": "python3",
      "display_name": "Python 3"
    }
  },
  "cells": [
    {
      "cell_type": "markdown",
      "metadata": {
        "id": "view-in-github",
        "colab_type": "text"
      },
      "source": [
        "<a href=\"https://colab.research.google.com/github/caimiao0714/optimization_stats_case_study/blob/master/02Statistical_modeling.ipynb\" target=\"_parent\"><img src=\"https://colab.research.google.com/assets/colab-badge.svg\" alt=\"Open In Colab\"/></a>"
      ]
    },
    {
      "cell_type": "markdown",
      "metadata": {
        "id": "hbVPykaPlop_",
        "colab_type": "text"
      },
      "source": [
        "# Simulating risk data\n",
        "\n",
        "*Author: Miao Cai* [miao.cai@slu.edu](miao.cai@slu.edu)\n",
        "\n",
        "## Statistical modeling\n",
        "\n",
        "We then use four different models to model the risk during the trip:\n",
        "\n",
        "- Logistic regression\n",
        "- Poisson regression\n",
        "- Neural networks"
      ]
    },
    {
      "cell_type": "code",
      "metadata": {
        "id": "8vsY6y1blCDV",
        "colab_type": "code",
        "colab": {
          "base_uri": "https://localhost:8080/",
          "height": 102
        },
        "outputId": "49094281-4afb-4606-f1f4-90a2214b7408"
      },
      "source": [
        "import tensorflow as tf\n",
        "import keras\n",
        "from sklearn.model_selection import train_test_split\n",
        "import pandas as pd\n",
        "import sys\n",
        "\n",
        "print(\"Python version: \" + sys.version)\n",
        "print(\"pandas version: \" + pd.__version__)\n",
        "print(\"tensorflow version: \" + tf.__version__)\n",
        "print(\"keras version: \" + keras.__version__)"
      ],
      "execution_count": 4,
      "outputs": [
        {
          "output_type": "stream",
          "text": [
            "Python version: 3.6.9 (default, Nov  7 2019, 10:44:02) \n",
            "[GCC 8.3.0]\n",
            "pandas version: 0.25.3\n",
            "tensorflow version: 1.15.0\n",
            "keras version: 2.2.5\n"
          ],
          "name": "stdout"
        }
      ]
    }
  ]
}