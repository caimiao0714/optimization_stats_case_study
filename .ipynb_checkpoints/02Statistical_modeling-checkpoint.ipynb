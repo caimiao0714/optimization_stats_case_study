{
 "cells": [
  {
   "cell_type": "markdown",
   "metadata": {
    "colab_type": "text",
    "id": "hbVPykaPlop_"
   },
   "source": [
    "# 02 Statistical modeling\n",
    "\n",
    "*Author: Miao Cai* [miao.cai@slu.edu](miao.cai@slu.edu)\n",
    "\n",
    "## Statistical modeling\n",
    "\n",
    "We then use four different models to model the risk during the trip:\n",
    "\n",
    "- Logistic regression\n",
    "- Poisson regression\n",
    "- XGBoost\n",
    "- Deep learning (Neural networks)\n",
    "\n",
    "## import packages and read data"
   ]
  },
  {
   "cell_type": "code",
   "execution_count": null,
   "metadata": {
    "colab": {
     "base_uri": "https://localhost:8080/",
     "height": 610
    },
    "colab_type": "code",
    "id": "8vsY6y1blCDV",
    "outputId": "0a824137-f613-4120-820b-48f87cfb1aa4"
   },
   "outputs": [],
   "source": [
    "# !pip install h2o\n",
    "import numpy as np\n",
    "import h2o\n",
    "from h2o.estimators.glm import H2OGeneralizedLinearEstimator\n",
    "h2o.init()\n",
    "\n",
    "print(\"numpy version:\", np.__version__)\n",
    "print(\"h2o version:\", h2o.__version__)"
   ]
  },
  {
   "cell_type": "code",
   "execution_count": null,
   "metadata": {
    "colab": {
     "base_uri": "https://localhost:8080/",
     "height": 163
    },
    "colab_type": "code",
    "id": "EsdWiFs6pXTi",
    "outputId": "1c3626d9-69d5-43ea-ad06-b7363ce9776b"
   },
   "outputs": [],
   "source": [
    "df = h2o.import_file('data/simulated_data.csv')\n",
    "df[df['y']  > 0,'y_binary'] = 1\n",
    "df[df['y'] == 0,'y_binary'] = 0\n",
    "df['y_binary'] = df['y_binary'].asfactor()\n",
    "df.head(5)"
   ]
  },
  {
   "cell_type": "code",
   "execution_count": null,
   "metadata": {
    "colab": {
     "base_uri": "https://localhost:8080/",
     "height": 163
    },
    "colab_type": "code",
    "id": "LZf7azQWqAJK",
    "outputId": "f8bb68cf-f007-4460-dca5-961ce5041198"
   },
   "outputs": [],
   "source": [
    "lk = h2o.import_file('data/links_traffic_precipitation.csv')\n",
    "lk.head(5)"
   ]
  },
  {
   "cell_type": "markdown",
   "metadata": {
    "colab_type": "text",
    "id": "CjwDYXqmz3gD"
   },
   "source": [
    "### Split into train and test sets"
   ]
  },
  {
   "cell_type": "code",
   "execution_count": null,
   "metadata": {
    "colab": {
     "base_uri": "https://localhost:8080/",
     "height": 72
    },
    "colab_type": "code",
    "id": "3DtRIAg3R_pz",
    "outputId": "1c02d579-0ae1-457d-e108-31266566ee45"
   },
   "outputs": [],
   "source": [
    "df_splits = df.split_frame(ratios = [0.7, 0.15], seed = 123)\n",
    "\n",
    "df_train = df_splits[0]\n",
    "df_test  = df_splits[1]\n",
    "df_valid = df_splits[2]\n",
    "\n",
    "print(str(df_train.nrow) + \" rows in training set;\\n\" + \n",
    "      str(df_test.nrow) + \" rows in test set;\\n\" + \n",
    "      str(df_valid.nrow) + \" rows in validation set.\")"
   ]
  },
  {
   "cell_type": "markdown",
   "metadata": {
    "colab_type": "text",
    "id": "eRXKKMQpppC5"
   },
   "source": [
    "## Logistic regression"
   ]
  },
  {
   "cell_type": "code",
   "execution_count": null,
   "metadata": {
    "colab": {
     "base_uri": "https://localhost:8080/",
     "height": 223
    },
    "colab_type": "code",
    "id": "HxoJpwEyvBLZ",
    "outputId": "8ccd7a1d-ea04-4088-f8e3-bb7a3d1d9824"
   },
   "outputs": [],
   "source": [
    "fit_logit = H2OGeneralizedLinearEstimator(family='binomial', \n",
    "                                          model_id='fit_logit')\n",
    "fit_logit.train(x = ['Precipitation', 'Traffic', 'Distance'], \n",
    "                y = 'y_binary', \n",
    "                training_frame = df_train)\n",
    "logit_test_fit = fit_logit.model_performance(df_test)\n",
    "fit_logit._model_json['output']['coefficients_table']"
   ]
  },
  {
   "cell_type": "code",
   "execution_count": null,
   "metadata": {
    "colab": {
     "base_uri": "https://localhost:8080/",
     "height": 235
    },
    "colab_type": "code",
    "id": "oexziW0Du_Jw",
    "outputId": "da320ea5-fa19-4c8e-e701-46916ad51b0a"
   },
   "outputs": [],
   "source": [
    "print(\"Logistic regression model evaluation:\")\n",
    "print(\"train AUC: \" + str(fit_logit.auc()))\n",
    "print(\"test  AUC: \" + str(logit_test_fit.auc()))\n",
    "print(\"---\")\n",
    "print(\"train Accuracy\" + str(fit_logit.accuracy()))\n",
    "print(\"test  Accuracy\" + str(logit_test_fit.accuracy()))\n",
    "print(\"---\")\n",
    "print(\"train MSE\" + str(fit_logit.mse()))\n",
    "print(\"test  MSE\" + str(logit_test_fit.mse()))\n",
    "print(\"---\")\n",
    "print(\"train R-square: \" + str(fit_logit.r2()))\n",
    "print(\"test  R-square: \" + str(logit_test_fit.r2()))"
   ]
  },
  {
   "cell_type": "markdown",
   "metadata": {
    "colab_type": "text",
    "id": "b2p8ndTzptqB"
   },
   "source": [
    "## Poisson regression"
   ]
  },
  {
   "cell_type": "code",
   "execution_count": null,
   "metadata": {
    "colab": {
     "base_uri": "https://localhost:8080/",
     "height": 223
    },
    "colab_type": "code",
    "id": "3j98U9y8n74X",
    "outputId": "5c6ad79d-0a22-4099-f98c-d3efb06329a0"
   },
   "outputs": [],
   "source": [
    "fit_poisson = H2OGeneralizedLinearEstimator(family='Poisson', \n",
    "                                            model_id='fit_poisson')\n",
    "fit_poisson.train(x = ['Precipitation', 'Traffic', 'Distance'], \n",
    "                  #offset_column = 'Distance',\n",
    "                  y = 'y', \n",
    "                  training_frame = df_train)\n",
    "poisson_test_fit = fit_poisson.model_performance(df_test)\n",
    "fit_poisson._model_json['output']['coefficients_table']"
   ]
  },
  {
   "cell_type": "code",
   "execution_count": null,
   "metadata": {
    "colab": {
     "base_uri": "https://localhost:8080/",
     "height": 126
    },
    "colab_type": "code",
    "id": "5GxAk4xMnvIu",
    "outputId": "06a49dd0-7ff9-4957-8f01-c6b00e26cd2b"
   },
   "outputs": [],
   "source": [
    "print(\"Poisson regression model evaluation:\")\n",
    "print(\"train MSE: \" + str(fit_poisson.mse()))\n",
    "print(\"test  MSE: \" + str(poisson_test_fit.mse()))\n",
    "print(\"---\")\n",
    "print(\"train R-square: \" + str(fit_poisson.r2()))\n",
    "print(\"test  R-square: \" + str(poisson_test_fit.r2()))"
   ]
  },
  {
   "cell_type": "markdown",
   "metadata": {
    "colab_type": "text",
    "id": "VxHYv6lM9LM0"
   },
   "source": [
    "## XGBoost"
   ]
  },
  {
   "cell_type": "code",
   "execution_count": null,
   "metadata": {
    "colab": {
     "base_uri": "https://localhost:8080/",
     "height": 35
    },
    "colab_type": "code",
    "id": "bfBV2DN_9gdd",
    "outputId": "1b0f510c-7e42-4ad9-d4e3-a16463eef505"
   },
   "outputs": [],
   "source": [
    "from h2o.estimators import H2OXGBoostEstimator\n",
    "xgboost_params = {\n",
    "      \"ntrees\" : 50, \n",
    "      \"max_depth\" : 5,\n",
    "      \"learn_rate\" : 0.001,\n",
    "      \"sample_rate\" : 0.7,\n",
    "      \"col_sample_rate_per_tree\" : 0.9,\n",
    "      \"min_rows\" : 5,\n",
    "      \"seed\": 4241,\n",
    "      \"score_tree_interval\": 10\n",
    "}\n",
    "fit_xgboost = H2OXGBoostEstimator(**xgboost_params)\n",
    "fit_xgboost.train(x = ['Precipitation', 'Traffic', 'Distance'], \n",
    "                  y = 'y_binary', \n",
    "                  training_frame = df_train, \n",
    "                  validation_frame = df_valid)"
   ]
  },
  {
   "cell_type": "code",
   "execution_count": null,
   "metadata": {
    "colab": {
     "base_uri": "https://localhost:8080/",
     "height": 235
    },
    "colab_type": "code",
    "id": "BLIPHASz-i_1",
    "outputId": "8eb78f48-7f08-46cc-8a11-4ac62de12f9f"
   },
   "outputs": [],
   "source": [
    "xgboost_test_fit = fit_xgboost.model_performance(df_test)\n",
    "print(\"XGBoost regression model evaluation:\")\n",
    "print(\"train AUC: \" + str(fit_xgboost.auc()))\n",
    "print(\"test  AUC: \" + str(xgboost_test_fit.auc()))\n",
    "print(\"---\")\n",
    "print(\"train Accuracy\" + str(fit_xgboost.accuracy()))\n",
    "print(\"test  Accuracy\" + str(xgboost_test_fit.accuracy()))\n",
    "print(\"---\")\n",
    "print(\"train MSE\" + str(fit_xgboost.mse()))\n",
    "print(\"test  MSE\" + str(xgboost_test_fit.mse()))\n",
    "print(\"---\")\n",
    "print(\"train R-square: \" + str(fit_xgboost.r2()))\n",
    "print(\"test  R-square: \" + str(xgboost_test_fit.r2()))"
   ]
  },
  {
   "cell_type": "markdown",
   "metadata": {
    "colab_type": "text",
    "id": "yR3lN6TWAeOf"
   },
   "source": [
    "## Neural networks"
   ]
  },
  {
   "cell_type": "code",
   "execution_count": null,
   "metadata": {
    "colab": {},
    "colab_type": "code",
    "id": "QFmp0Uv6BBgt"
   },
   "outputs": [],
   "source": [
    "from h2o.estimators.deeplearning import H2OAutoEncoderEstimator, H2ODeepLearningEstimator"
   ]
  },
  {
   "cell_type": "code",
   "execution_count": null,
   "metadata": {
    "colab": {
     "base_uri": "https://localhost:8080/",
     "height": 35
    },
    "colab_type": "code",
    "id": "WsQAW5mBBRLQ",
    "outputId": "ee38977e-afa8-42c3-fe85-8ececa636be0"
   },
   "outputs": [],
   "source": [
    "fit_DL = H2ODeepLearningEstimator(epochs = 1000, \n",
    "                                  # hidden = [10, 10],\n",
    "                                  model_id = 'Deep learning', \n",
    "                                  seed = 1)\n",
    "fit_DL.train(x = ['Precipitation', 'Traffic', 'Distance'], \n",
    "             y = 'y_binary', \n",
    "             training_frame = df_train, \n",
    "             validation_frame = df_valid)"
   ]
  },
  {
   "cell_type": "code",
   "execution_count": null,
   "metadata": {
    "colab": {
     "base_uri": "https://localhost:8080/",
     "height": 235
    },
    "colab_type": "code",
    "id": "MttXXE4PCjRG",
    "outputId": "4882fa7a-d7e2-425a-ff65-c2181bffc257"
   },
   "outputs": [],
   "source": [
    "DL_test_fit = fit_DL.model_performance(df_test)\n",
    "print(\"Deep learning model evaluation:\")\n",
    "print(\"train AUC: \" + str(fit_DL.auc()))\n",
    "print(\"test  AUC: \" + str(DL_test_fit.auc()))\n",
    "print(\"---\")\n",
    "print(\"train Accuracy\" + str(fit_DL.accuracy()))\n",
    "print(\"test  Accuracy\" + str(DL_test_fit.accuracy()))\n",
    "print(\"---\")\n",
    "print(\"train MSE\" + str(fit_DL.mse()))\n",
    "print(\"test  MSE\" + str(DL_test_fit.mse()))\n",
    "print(\"---\")\n",
    "print(\"train R-square: \" + str(fit_DL.r2()))\n",
    "print(\"test  R-square: \" + str(DL_test_fit.r2()))"
   ]
  },
  {
   "cell_type": "markdown",
   "metadata": {
    "colab_type": "text",
    "id": "qxbgJh3WEh-C"
   },
   "source": [
    "## Prediction for links data"
   ]
  },
  {
   "cell_type": "code",
   "execution_count": null,
   "metadata": {
    "colab": {
     "base_uri": "https://localhost:8080/",
     "height": 290
    },
    "colab_type": "code",
    "id": "POyN7U_iEkJZ",
    "outputId": "5ecedbc3-846c-4f65-ca69-0f3b8a086a1a"
   },
   "outputs": [],
   "source": [
    "risk_logit = fit_logit.predict(lk).as_data_frame(True).p1.tolist()\n",
    "risk_poisson = fit_poisson.predict(lk).as_data_frame(True).predict.tolist()\n",
    "risk_xgboost = fit_xgboost.predict(lk).as_data_frame(True).p1.tolist()\n",
    "risk_DL = fit_DL.predict(lk).as_data_frame(True).p1.tolist()\n",
    "\n",
    "lk_risks = lk.cbind(h2o.H2OFrame(risk_logit).set_names(['risk_logit'])).\\\n",
    "              cbind(h2o.H2OFrame(risk_poisson).set_names(['risk_poisson'])).\\\n",
    "              cbind(h2o.H2OFrame(risk_xgboost).set_names(['risk_xgboost'])).\\\n",
    "              cbind(h2o.H2OFrame(risk_DL).set_names(['risk_DL']))\n",
    "lk_risks.head(5)"
   ]
  },
  {
   "cell_type": "code",
   "execution_count": null,
   "metadata": {
    "colab": {
     "base_uri": "https://localhost:8080/",
     "height": 35
    },
    "colab_type": "code",
    "id": "UNsjJwTcTRdY",
    "outputId": "7288983c-4cca-4daf-baf3-261b158106bf"
   },
   "outputs": [],
   "source": [
    "from google.colab import drive\n",
    "from google.colab import files\n",
    "drive.mount('/content/drive/', force_remount=True)\n",
    "lk_risks.as_data_frame().to_csv('lk_risks.csv')\n",
    "files.download('lk_risks.csv')"
   ]
  },
  {
   "cell_type": "code",
   "execution_count": null,
   "metadata": {},
   "outputs": [],
   "source": [
    "import sys\n",
    "sys.executable"
   ]
  }
 ],
 "metadata": {
  "colab": {
   "collapsed_sections": [],
   "name": "02Statistical modeling.ipynb",
   "provenance": []
  },
  "kernelspec": {
   "display_name": "p27",
   "language": "python",
   "name": "p27"
  },
  "language_info": {
   "codemirror_mode": {
    "name": "ipython",
    "version": 2
   },
   "file_extension": ".py",
   "mimetype": "text/x-python",
   "name": "python",
   "nbconvert_exporter": "python",
   "pygments_lexer": "ipython2",
   "version": "2.7.17"
  }
 },
 "nbformat": 4,
 "nbformat_minor": 1
}
