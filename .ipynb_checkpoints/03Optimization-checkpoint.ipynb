{
 "cells": [
  {
   "cell_type": "code",
   "execution_count": 5,
   "metadata": {},
   "outputs": [
    {
     "ename": "FileNotFoundError",
     "evalue": "[Errno 2] No such file or directory: 'nodes.csv'",
     "output_type": "error",
     "traceback": [
      "\u001b[0;31m---------------------------------------------------------------------------\u001b[0m",
      "\u001b[0;31mFileNotFoundError\u001b[0m                         Traceback (most recent call last)",
      "\u001b[0;32m<ipython-input-5-e298fae308ab>\u001b[0m in \u001b[0;36m<module>\u001b[0;34m\u001b[0m\n\u001b[1;32m     11\u001b[0m \u001b[0;32mimport\u001b[0m \u001b[0mnumpy\u001b[0m \u001b[0;32mas\u001b[0m \u001b[0mnp\u001b[0m\u001b[0;34m\u001b[0m\u001b[0;34m\u001b[0m\u001b[0m\n\u001b[1;32m     12\u001b[0m \u001b[0;32mimport\u001b[0m \u001b[0mpandas\u001b[0m \u001b[0;32mas\u001b[0m \u001b[0mpd\u001b[0m\u001b[0;34m\u001b[0m\u001b[0;34m\u001b[0m\u001b[0m\n\u001b[0;32m---> 13\u001b[0;31m \u001b[0mnodes_file\u001b[0m\u001b[0;34m=\u001b[0m\u001b[0mcsv\u001b[0m\u001b[0;34m.\u001b[0m\u001b[0mreader\u001b[0m\u001b[0;34m(\u001b[0m\u001b[0mopen\u001b[0m\u001b[0;34m(\u001b[0m\u001b[0;34m'nodes.csv'\u001b[0m\u001b[0;34m,\u001b[0m\u001b[0;34m'r'\u001b[0m\u001b[0;34m)\u001b[0m\u001b[0;34m)\u001b[0m\u001b[0;34m;\u001b[0m\u001b[0;34m\u001b[0m\u001b[0;34m\u001b[0m\u001b[0m\n\u001b[0m\u001b[1;32m     14\u001b[0m \u001b[0mlinks_file\u001b[0m\u001b[0;34m=\u001b[0m\u001b[0mcsv\u001b[0m\u001b[0;34m.\u001b[0m\u001b[0mreader\u001b[0m\u001b[0;34m(\u001b[0m\u001b[0mopen\u001b[0m\u001b[0;34m(\u001b[0m\u001b[0;34m'links.csv'\u001b[0m\u001b[0;34m,\u001b[0m\u001b[0;34m'r'\u001b[0m\u001b[0;34m)\u001b[0m\u001b[0;34m)\u001b[0m\u001b[0;34m;\u001b[0m\u001b[0;34m\u001b[0m\u001b[0;34m\u001b[0m\u001b[0m\n",
      "\u001b[0;31mFileNotFoundError\u001b[0m: [Errno 2] No such file or directory: 'nodes.csv'"
     ]
    }
   ],
   "source": [
    "\"The implementation is largely influenced by the Yen's algorithm in Wikipedia\\\n",
    "and beegeesquare's implementation on github\"\n",
    "\n",
    "import networkx as nx\n",
    "from copy import deepcopy\n",
    "import queue\n",
    "import matplotlib.pyplot as plt\n",
    "#import names\n",
    "import csv\n",
    "#import math\n",
    "import numpy as np\n",
    "import pandas as pd\n",
    "nodes_file=csv.reader(open('data/nodes.csv','r'));\n",
    "links_file=csv.reader(open('data/links.csv','r'));"
   ]
  },
  {
   "cell_type": "code",
   "execution_count": 2,
   "metadata": {},
   "outputs": [],
   "source": [
    "G_network=nx.Graph()\n",
    "G_risk_logit= nx.Graph()\n",
    "G_risk_poisson= nx.Graph()\n",
    "G_risk_xgboost= nx.Graph()\n",
    "G_risk_ANN= nx.Graph()"
   ]
  },
  {
   "cell_type": "code",
   "execution_count": 3,
   "metadata": {},
   "outputs": [],
   "source": [
    "tmp=0\n",
    "for row in nodes_file:\n",
    "    if (tmp>0):\n",
    "        G_network.add_node(row[0])\n",
    "        G_risk_logit.add_node(row[0])\n",
    "        G_risk_poisson.add_node(row[0])\n",
    "        G_risk_xgboost.add_node(row[0])\n",
    "        G_risk_ANN.add_node(row[0])\n",
    "        \n",
    "        \n",
    "    tmp=+1"
   ]
  },
  {
   "cell_type": "code",
   "execution_count": 4,
   "metadata": {},
   "outputs": [
    {
     "ename": "IndexError",
     "evalue": "list index out of range",
     "output_type": "error",
     "traceback": [
      "\u001b[0;31m---------------------------------------------------------------------------\u001b[0m",
      "\u001b[0;31mIndexError\u001b[0m                                Traceback (most recent call last)",
      "\u001b[0;32m<ipython-input-4-0ed9877dd54b>\u001b[0m in \u001b[0;36m<module>\u001b[0;34m\u001b[0m\n\u001b[1;32m      6\u001b[0m \u001b[0;31m#        first risk model\u001b[0m\u001b[0;34m\u001b[0m\u001b[0;34m\u001b[0m\u001b[0;34m\u001b[0m\u001b[0m\n\u001b[1;32m      7\u001b[0m         \u001b[0mG_risk_logit\u001b[0m\u001b[0;34m.\u001b[0m\u001b[0madd_edge\u001b[0m\u001b[0;34m(\u001b[0m\u001b[0mrow\u001b[0m\u001b[0;34m[\u001b[0m\u001b[0;36m0\u001b[0m\u001b[0;34m]\u001b[0m\u001b[0;34m,\u001b[0m\u001b[0mrow\u001b[0m\u001b[0;34m[\u001b[0m\u001b[0;36m1\u001b[0m\u001b[0;34m]\u001b[0m\u001b[0;34m)\u001b[0m\u001b[0;34m;\u001b[0m\u001b[0;34m\u001b[0m\u001b[0;34m\u001b[0m\u001b[0m\n\u001b[0;32m----> 8\u001b[0;31m         \u001b[0mG_risk_logit\u001b[0m\u001b[0;34m[\u001b[0m\u001b[0mrow\u001b[0m\u001b[0;34m[\u001b[0m\u001b[0;36m0\u001b[0m\u001b[0;34m]\u001b[0m\u001b[0;34m]\u001b[0m\u001b[0;34m[\u001b[0m\u001b[0mrow\u001b[0m\u001b[0;34m[\u001b[0m\u001b[0;36m1\u001b[0m\u001b[0;34m]\u001b[0m\u001b[0;34m]\u001b[0m\u001b[0;34m[\u001b[0m\u001b[0;34m'weight'\u001b[0m\u001b[0;34m]\u001b[0m\u001b[0;34m=\u001b[0m\u001b[0mfloat\u001b[0m\u001b[0;34m(\u001b[0m\u001b[0mrow\u001b[0m\u001b[0;34m[\u001b[0m\u001b[0;36m3\u001b[0m\u001b[0;34m]\u001b[0m\u001b[0;34m)\u001b[0m\u001b[0;34m;\u001b[0m\u001b[0;34m\u001b[0m\u001b[0;34m\u001b[0m\u001b[0m\n\u001b[0m\u001b[1;32m      9\u001b[0m \u001b[0;31m#        second risk model\u001b[0m\u001b[0;34m\u001b[0m\u001b[0;34m\u001b[0m\u001b[0;34m\u001b[0m\u001b[0m\n\u001b[1;32m     10\u001b[0m         \u001b[0mG_risk_poisson\u001b[0m\u001b[0;34m.\u001b[0m\u001b[0madd_edge\u001b[0m\u001b[0;34m(\u001b[0m\u001b[0mrow\u001b[0m\u001b[0;34m[\u001b[0m\u001b[0;36m0\u001b[0m\u001b[0;34m]\u001b[0m\u001b[0;34m,\u001b[0m\u001b[0mrow\u001b[0m\u001b[0;34m[\u001b[0m\u001b[0;36m1\u001b[0m\u001b[0;34m]\u001b[0m\u001b[0;34m)\u001b[0m\u001b[0;34m;\u001b[0m\u001b[0;34m\u001b[0m\u001b[0;34m\u001b[0m\u001b[0m\n",
      "\u001b[0;31mIndexError\u001b[0m: list index out of range"
     ]
    }
   ],
   "source": [
    "tmp=0\n",
    "for row in links_file:\n",
    "    if (tmp>0): # Ignores the first line in the file\n",
    "        G_network.add_edge(row[0],row[1]);\n",
    "        G_network[row[0]][row[1]]['weight']=float(row[2]);\n",
    "#        first risk model\n",
    "        G_risk_logit.add_edge(row[0],row[1]);\n",
    "        G_risk_logit[row[0]][row[1]]['weight']=float(row[3]);\n",
    "#        second risk model\n",
    "        G_risk_poisson.add_edge(row[0],row[1]);\n",
    "        G_risk_poisson[row[0]][row[1]]['weight']=float(row[4]);\n",
    "        G_risk_xgboost.add_edge(row[0],row[1]);\n",
    "        G_risk_xgboost[row[0]][row[1]]['weight']=float(row[5]);\n",
    "        G_risk_ANN.add_edge(row[0],row[1]);\n",
    "        G_risk_ANN[row[0]][row[1]]['weight']=float(row[6]);\n",
    "        \n",
    "    tmp+=1;"
   ]
  },
  {
   "cell_type": "code",
   "execution_count": null,
   "metadata": {},
   "outputs": [],
   "source": [
    "#getEdge and drawP are for drawing\n",
    "def getEdge(p):\n",
    "    draw_edge = []\n",
    "    for i in range(len(p)-1):\n",
    "        a = (p[i],p[i+1])\n",
    "        draw_edge.append(a)\n",
    "    return draw_edge"
   ]
  },
  {
   "cell_type": "code",
   "execution_count": null,
   "metadata": {},
   "outputs": [],
   "source": [
    "# Draw the network if needed\n",
    "def drawP(G_network,p,pos):\n",
    "#    c,p = nx.single_source_dijkstra(G_network,\"Ann_Arbor\",\"Seattle\")\n",
    "    #print(p)\n",
    "#    pos = nx.spring_layout(G_network)\n",
    "    draw_edge = getEdge(p)      \n",
    "    nx.draw_networkx_nodes(G_network, pos,\n",
    "                           node_size=100,\n",
    "                           alpha=0.8)\n",
    "    nx.draw_networkx_nodes(G_network, pos,nodelist=p,\n",
    "                           node_size=100,\n",
    "                           alpha=0.8)\n",
    "    nx.draw_networkx_edges(G_network, pos, width=1, alpha=0.5)\n",
    "    nx.draw_networkx_edges(G_network, pos, edgelist=draw_edge, \\\n",
    "                           width=5, alpha=0.5,edge_color='r')\n",
    "    nx.draw_networkx_labels(G_network, pos,font_size=12)"
   ]
  },
  {
   "cell_type": "code",
   "execution_count": null,
   "metadata": {},
   "outputs": [],
   "source": [
    "def pweight(G,p):\n",
    "    w = 0;\n",
    "    for i in range(len(p)-1): \n",
    "#        print(p[i])\n",
    "        w += G[p[i]][p[i+1]]['weight'];\n",
    "    return w"
   ]
  },
  {
   "cell_type": "code",
   "execution_count": null,
   "metadata": {},
   "outputs": [],
   "source": [
    "def cprm(G,a,z):\n",
    "    ec = G[a][z]['weight'];\n",
    "    G.remove_edge(a,z);\n",
    "    return (a,z,ec)"
   ]
  },
  {
   "cell_type": "code",
   "execution_count": null,
   "metadata": {},
   "outputs": [],
   "source": [
    "def cprmnode(G,n):\n",
    "    ec = deepcopy(G[n]);\n",
    "    G.remove_node(n);\n",
    "    return (n,ec)"
   ]
  },
  {
   "cell_type": "code",
   "execution_count": null,
   "metadata": {},
   "outputs": [],
   "source": [
    "    # Determine the shortest path from the source to the sink.\n",
    "    (c,p) = nx.single_source_dijkstra(G,source,target);\n",
    "    A = [p];  A_cost = [c];\n",
    "    # Initialize the set to store the potential kth shortest path.\n",
    "    B = queue.PriorityQueue();\n",
    "    for k in range(1,K):\n",
    "        # The spur node ranges from the first node to the next to last node in the previous k-shortest path.\n",
    "        for i in range(len(A[k-1])-1):\n",
    "            \n",
    "            # Spur node is retrieved from the previous k-shortest path, k − 1.\n",
    "            sn = A[k-1][i];\n",
    "            # The sequence of nodes from the source to the spur node of the previous k-shortest path.\n",
    "            rp = A[k-1][:i];\n",
    "            \n",
    "            # We store the removed edges\n",
    "            removed_edges = [];  removed_root_edges = [];  removed_root_nodes=[];\n",
    "            # Remove the root paths\n",
    "\n",
    "            # for each node rootPathNode in rootPath except spurNode:\n",
    "            #   remove rootPathNode from Graph;\n",
    "            for j in range(len(rp)):\n",
    "                \n",
    "                \n",
    "                extra_edges = deepcopy(G.edges(rp[j]));\n",
    "                \n",
    "                for eg in extra_edges:\n",
    "                  \n",
    "                    src=eg[0];\n",
    "                    tgt=eg[1];\n",
    "                    removed_root_edges.append(cprm(G,src,tgt));\n",
    "              \n",
    "                removed_root_nodes.append(cprmnode(G,rp[j]));\n",
    "\n",
    "            erp = A[k-1][:i+1];  # extended root path\n",
    "            for p in A:\n",
    "                if erp == p[:i+1] and G.has_edge(p[i],p[i+1]):\n",
    "                    removed_edges.append(cprm(G,p[i],p[i+1]));\n",
    "            # The spur path\n",
    "            DONE = 0\n",
    "            try:\n",
    "                (csp,sp) = nx.single_source_dijkstra(G,sn,target)\n",
    "            except:\n",
    "                # there is no spur path if sn is not connected to the target\n",
    "                sp = [];  csp = None; DONE = 1;\n",
    "                #return (A, A_cost)\n",
    "            # Add back the edges that were removed\n",
    "            for nd in removed_root_nodes: G.add_node(nd[0]);\n",
    "            for re in removed_root_edges: G.add_edge(re[0],re[1],weight=re[2]);\n",
    "            for re in removed_edges: G.add_edge(re[0],re[1],weight=re[2]);\n",
    "            if len(sp) > 0:\n",
    "                # The potential k-th shortest path (the root path may be empty)\n",
    "                pk = rp + sp;\n",
    "#                print(pk)\n",
    "                cpk = pweight(G,pk);\n",
    "                # Add the potential k-shortest path to the heap\n",
    "                B.put((cpk,pk));\n",
    "\n",
    "        if B.empty():\n",
    "            print ('There are only', k, 'shortest paths for this pair');\n",
    "            break;\n",
    "        # The shortest path in B that is not already in A is the new k-th shortest path\n",
    "        while not B.empty():\n",
    "            cost, path = B.get();\n",
    "            if path not in A:\n",
    "                A.append(path);\n",
    "                A_cost.append(cost);\n",
    "                break;\n",
    "\n",
    "    return (A, A_cost)"
   ]
  },
  {
   "cell_type": "code",
   "execution_count": null,
   "metadata": {},
   "outputs": [],
   "source": [
    "src='node 1';\n",
    "tgt='node 14';\n",
    "k=4;\n",
    "\n",
    "\n",
    "k_path, path_costs=yen(G_network,src,tgt,k);\n",
    "pos = nx.spring_layout(G_network)\n",
    "result = []\n",
    "\n",
    "\n",
    "for i in range(k):\n",
    "#    print(k_path[i],path_costs[i])\n",
    "    rank = i+1\n",
    "    plt.figure(i+1,figsize=[8,6.6])\n",
    "#    t = \"This is the path ranked as {}\"\n",
    "#    plt.suptitle(t.format(rank))\n",
    "\n",
    "    drawP(G_network,k_path[i],pos)\n",
    "    \n",
    "    if i == 0:\n",
    "        plt.savefig('first.png', dpi = 1200)\n",
    "    if i == 1:\n",
    "        plt.savefig('second.png', dpi = 1200)\n",
    "    if i == 2:\n",
    "        plt.savefig('third.png', dpi = 1200)\n",
    "    if i == 3:\n",
    "        plt.savefig('four.png', dpi = 1200)\n",
    "    if i == 4:\n",
    "        plt.savefig('five.png', dpi = 1200)\n",
    "        \n",
    "    r1 = pweight(G_risk_logit,k_path[i])\n",
    "\n",
    "    r2 = pweight(G_risk_poisson,k_path[i])\n",
    "\n",
    "    r3 = pweight(G_risk_xgboost,k_path[i])\n",
    "\n",
    "    r4 = pweight(G_risk_ANN,k_path[i])\n",
    "\n",
    "    b = (k_path[i],path_costs[i],r1,r2,r3,r4)\n",
    "    result.append(b)\n",
    "print(result)    "
   ]
  },
  {
   "cell_type": "code",
   "execution_count": null,
   "metadata": {},
   "outputs": [],
   "source": [
    "df = pd.DataFrame(result,columns =['path','distance','risk_logit','risk_poi','risk_Xgboost','ANN'])\n",
    "df.head(5)"
   ]
  },
  {
   "cell_type": "code",
   "execution_count": null,
   "metadata": {},
   "outputs": [],
   "source": [
    "df.to_csv('result_k=4.csv')"
   ]
  }
 ],
 "metadata": {
  "kernelspec": {
   "display_name": "py36",
   "language": "python",
   "name": "py36"
  },
  "language_info": {
   "codemirror_mode": {
    "name": "ipython",
    "version": 3
   },
   "file_extension": ".py",
   "mimetype": "text/x-python",
   "name": "python",
   "nbconvert_exporter": "python",
   "pygments_lexer": "ipython3",
   "version": "3.6.7"
  }
 },
 "nbformat": 4,
 "nbformat_minor": 2
}
